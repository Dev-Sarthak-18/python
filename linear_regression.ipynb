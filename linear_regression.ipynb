{
 "cells": [
  {
   "cell_type": "code",
   "execution_count": 70,
   "metadata": {},
   "outputs": [],
   "source": [
    "import numpy as np\n",
    "import pandas as pd\n",
    "import matplotlib.pyplot as plt\n",
    "from sklearn.model_selection import train_test_split\n",
    "from sklearn.linear_model import LinearRegression\n",
    "from sklearn.metrics import mean_squared_error,r2_score"
   ]
  },
  {
   "cell_type": "code",
   "execution_count": 71,
   "metadata": {},
   "outputs": [
    {
     "name": "stdout",
     "output_type": "stream",
     "text": [
      "   size    price\n",
      "0   600   100000\n",
      "1   800  1500000\n",
      "2  1000  1800000\n",
      "3  1200  2000000\n",
      "4  1500  2500000\n",
      "5  1800  2800000\n",
      "6  2000  3000000\n",
      "7  2200  3300000\n",
      "8  2500  3500000\n",
      "9  2700  3800000\n"
     ]
    }
   ],
   "source": [
    "data={\"size\":[600,800,1000,1200,1500,1800,2000,2200,2500,2700],\n",
    "      \"price\":[100000,1500000,1800000,2000000,2500000,2800000,3000000,3300000,3500000,3800000]}\n",
    "df=pd.DataFrame(data)\n",
    "print(df)"
   ]
  },
  {
   "cell_type": "code",
   "execution_count": 72,
   "metadata": {},
   "outputs": [],
   "source": [
    "x=df[['size']]\n",
    "y=df[['price']]"
   ]
  },
  {
   "cell_type": "code",
   "execution_count": 73,
   "metadata": {},
   "outputs": [],
   "source": [
    "x_train,x_test,y_train,y_test=train_test_split(x,y,test_size=0.2,random_state=42)"
   ]
  },
  {
   "cell_type": "code",
   "execution_count": 74,
   "metadata": {},
   "outputs": [
    {
     "name": "stdout",
     "output_type": "stream",
     "text": [
      "   size\n",
      "5  1800\n",
      "0   600\n",
      "7  2200\n",
      "2  1000\n",
      "9  2700\n",
      "4  1500\n",
      "3  1200\n",
      "6  2000\n"
     ]
    }
   ],
   "source": [
    "print(x_train)"
   ]
  },
  {
   "cell_type": "code",
   "execution_count": 75,
   "metadata": {},
   "outputs": [
    {
     "name": "stdout",
     "output_type": "stream",
     "text": [
      "   size\n",
      "8  2500\n",
      "1   800\n"
     ]
    }
   ],
   "source": [
    "print(x_test)"
   ]
  },
  {
   "cell_type": "code",
   "execution_count": 76,
   "metadata": {},
   "outputs": [
    {
     "name": "stdout",
     "output_type": "stream",
     "text": [
      "     price\n",
      "5  2800000\n",
      "0   100000\n",
      "7  3300000\n",
      "2  1800000\n",
      "9  3800000\n",
      "4  2500000\n",
      "3  2000000\n",
      "6  3000000\n"
     ]
    }
   ],
   "source": [
    "print(y_train)\n"
   ]
  },
  {
   "cell_type": "code",
   "execution_count": 77,
   "metadata": {},
   "outputs": [
    {
     "name": "stdout",
     "output_type": "stream",
     "text": [
      "     price\n",
      "8  3500000\n",
      "1  1500000\n"
     ]
    }
   ],
   "source": [
    "print(y_test)"
   ]
  },
  {
   "cell_type": "code",
   "execution_count": 78,
   "metadata": {},
   "outputs": [
    {
     "data": {
      "text/plain": [
       "LinearRegression()"
      ]
     },
     "execution_count": 78,
     "metadata": {},
     "output_type": "execute_result"
    }
   ],
   "source": [
    "model=LinearRegression()\n",
    "model.fit(x_train,y_train)"
   ]
  },
  {
   "cell_type": "code",
   "execution_count": 79,
   "metadata": {},
   "outputs": [
    {
     "name": "stdout",
     "output_type": "stream",
     "text": [
      "Mean squared error : 120199861955.73857\n",
      "R-squard : 0.8798001380442614\n"
     ]
    }
   ],
   "source": [
    "y_pred=model.predict(x_test)\n",
    "mse=mean_squared_error(y_test,y_pred)\n",
    "r2=r2_score(y_test,y_pred)\n",
    "print(\"Mean squared error :\",mse)\n",
    "print(\"R-squard :\",r2)"
   ]
  },
  {
   "cell_type": "code",
   "execution_count": 98,
   "metadata": {},
   "outputs": [
    {
     "data": {
      "image/png": "[encoded data removed]",
      "text/plain": [
       "<Figure size 432x288 with 1 Axes>"
      ]
     },
     "metadata": {
      "needs_background": "light"
     },
     "output_type": "display_data"
    }
   ],
   "source": [
    "plt.scatter(x_train,y_train,color='blue', label='Training data')\n",
    "plt.scatter(x_test,y_test,color='green',label='Testing data')\n",
    "plt.plot(x_test,y_pred,color='red',label='Prediction')\n",
    "plt.title('House Price Prediction')\n",
    "plt.xlabel('size (sqft)')\n",
    "plt.ylabel('Price (Rs)')\n",
    "plt.legend()\n",
    "plt.show()"
   ]
  },
  {
   "cell_type": "code",
   "execution_count": 99,
   "metadata": {},
   "outputs": [
    {
     "name": "stdout",
     "output_type": "stream",
     "text": [
      "[[ 950606.98027314]\n",
      " [1266691.95751138]\n",
      " [1582776.93474962]\n",
      " [1898861.91198786]\n",
      " [2372989.37784522]]\n"
     ]
    }
   ],
   "source": [
    "new_sizes=np.array([700,900,1100,1300,1600]).reshape(-1,1)\n",
    "\n",
    "predicted_prices=model.predict(new_sizes)\n",
    "print(predicted_prices)"
   ]
  },
  {
   "cell_type": "code",
   "execution_count": 104,
   "metadata": {},
   "outputs": [
    {
     "name": "stdout",
     "output_type": "stream",
     "text": [
      "Predicted price for a house with size 700 sqft is Rs 950606.98\n",
      "Predicted price for a house with size 900 sqft is Rs 1266691.96\n",
      "Predicted price for a house with size 1100 sqft is Rs 1582776.93\n",
      "Predicted price for a house with size 1300 sqft is Rs 1898861.91\n",
      "Predicted price for a house with size 1600 sqft is Rs 2372989.38\n"
     ]
    }
   ],
   "source": [
    "for size,price in zip(new_sizes,predicted_prices):\n",
    "    print(f\"Predicted price for a house with size {size[0]} sqft is Rs{price[0]: .2f}\")"
   ]
  },
  {
   "cell_type": "code",
   "execution_count": null,
   "metadata": {},
   "outputs": [],
   "source": []
  }
 ],
 "metadata": {
  "kernelspec": {
   "display_name": "Python 3",
   "language": "python",
   "name": "python3"
  },
  "language_info": {
   "codemirror_mode": {
    "name": "ipython",
    "version": 3
   },
   "file_extension": ".py",
   "mimetype": "text/x-python",
   "name": "python",
   "nbconvert_exporter": "python",
   "pygments_lexer": "ipython3",
   "version": "3.8.5"
  }
 },
 "nbformat": 4,
 "nbformat_minor": 4
}
